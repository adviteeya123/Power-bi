{
 "cells": [
  {
   "cell_type": "code",
   "execution_count": 3,
   "id": "e697d3d7",
   "metadata": {},
   "outputs": [
    {
     "name": "stdout",
     "output_type": "stream",
     "text": [
      "Collecting PyPDF2\n",
      "  Downloading pypdf2-2.12.1-py3-none-any.whl (222 kB)\n",
      "     -------------------------------------- 222.8/222.8 kB 2.3 MB/s eta 0:00:00\n",
      "Collecting typing_extensions>=3.10.0.0\n",
      "  Downloading typing_extensions-4.4.0-py3-none-any.whl (26 kB)\n",
      "Installing collected packages: typing_extensions, PyPDF2\n",
      "  Attempting uninstall: typing_extensions\n",
      "    Found existing installation: typing-extensions 3.7.4.3\n",
      "    Uninstalling typing-extensions-3.7.4.3:\n",
      "      Successfully uninstalled typing-extensions-3.7.4.3\n",
      "Successfully installed PyPDF2-2.12.1 typing_extensions-4.4.0\n"
     ]
    },
    {
     "name": "stderr",
     "output_type": "stream",
     "text": [
      "\n",
      "[notice] A new release of pip available: 22.2.2 -> 22.3.1\n",
      "[notice] To update, run: python.exe -m pip install --upgrade pip\n"
     ]
    }
   ],
   "source": [
    "# importing required modules\n",
    "!pip install PyPDF2\n",
    "import PyPDF2\n",
    "\n",
    " \n"
   ]
  },
  {
   "cell_type": "code",
   "execution_count": 115,
   "id": "30aa8208",
   "metadata": {},
   "outputs": [],
   "source": [
    "import os"
   ]
  },
  {
   "cell_type": "code",
   "execution_count": 116,
   "id": "477dc8b3",
   "metadata": {},
   "outputs": [],
   "source": [
    "paths = os.listdir()"
   ]
  },
  {
   "cell_type": "code",
   "execution_count": 117,
   "id": "31f2ecee",
   "metadata": {},
   "outputs": [
    {
     "data": {
      "text/plain": [
       "['.ipynb_checkpoints',\n",
       " 'CACIM_10-12 Nov, 2022 (1).pdf',\n",
       " 'CRB_9-11 Nov, 2022.pdf',\n",
       " 'How to access multiple pdf files from a folder.ipynb',\n",
       " 'IIFT_18-20 Nov, 2022 (1).pdf',\n",
       " 'IUAC_15-19 Nov, 2022 (1).pdf']"
      ]
     },
     "execution_count": 117,
     "metadata": {},
     "output_type": "execute_result"
    }
   ],
   "source": [
    "paths"
   ]
  },
  {
   "cell_type": "code",
   "execution_count": 118,
   "id": "8ea53a9d",
   "metadata": {},
   "outputs": [],
   "source": [
    "pdf_files = []\n",
    "\n",
    "for path in paths:\n",
    "    if path.endswith(\".pdf\"):\n",
    "        pdf_files.append(path)"
   ]
  },
  {
   "cell_type": "code",
   "execution_count": 119,
   "id": "4873a517",
   "metadata": {},
   "outputs": [
    {
     "data": {
      "text/plain": [
       "['CACIM_10-12 Nov, 2022 (1).pdf',\n",
       " 'CRB_9-11 Nov, 2022.pdf',\n",
       " 'IIFT_18-20 Nov, 2022 (1).pdf',\n",
       " 'IUAC_15-19 Nov, 2022 (1).pdf']"
      ]
     },
     "execution_count": 119,
     "metadata": {},
     "output_type": "execute_result"
    }
   ],
   "source": [
    "pdf_files"
   ]
  },
  {
   "cell_type": "code",
   "execution_count": 5,
   "id": "8278b34a",
   "metadata": {},
   "outputs": [
    {
     "name": "stdout",
     "output_type": "stream",
     "text": [
      "Requirement already satisfied: pip in c:\\users\\shrav\\anaconda3\\lib\\site-packages (22.2.2)\n",
      "Collecting pip\n",
      "  Downloading pip-22.3.1-py3-none-any.whl (2.1 MB)\n",
      "     ---------------------------------------- 2.1/2.1 MB 8.2 MB/s eta 0:00:00\n",
      "Installing collected packages: pip\n",
      "  Attempting uninstall: pip\n",
      "    Found existing installation: pip 22.2.2\n",
      "    Uninstalling pip-22.2.2:\n",
      "      Successfully uninstalled pip-22.2.2\n",
      "Successfully installed pip-22.3.1\n"
     ]
    }
   ],
   "source": [
    "!python.exe -m pip install --upgrade pip"
   ]
  },
  {
   "cell_type": "code",
   "execution_count": 138,
   "id": "54673142",
   "metadata": {
    "scrolled": false
   },
   "outputs": [
    {
     "name": "stdout",
     "output_type": "stream",
     "text": [
      "Invoice number 0\n",
      " \n",
      "PAYMENT DUE  \n",
      "The India Institute for Critical Action- Centre in Movement\n",
      "R-21, South Extn II, New Delhi – 110 049\n",
      "PAN: AAABC4304B GST:\n",
      "DATE SAC CODE DETAILS NO. OF PERSONS NO. OF DAYS UNIT PRICE LINE TOTAL\n",
      "                                           ACCOMMODATION CHARGES \n",
      "November 10, 2022 996333 Three room attached bath on single occupancy 3 1 2,000.00 6,000.00\n",
      "November 11, 2022 996333 Two room attached bath on single occupancy 2 1 2,000.00 4,000.00\n",
      "November 11, 2022 996333 One room attached bath on double occupancy 2 1 3,000.00 3,000.00\n",
      "November 12, 2022 996333 One room attached bath on Single occupancy 1 1 2,000.00 2,000.00\n",
      "November 12, 2022 996333 One room attached bath on double occupancy 2 1 3,000.00 3,000.00\n",
      "Amount due before taxes 18,000.00\n",
      "CGST (6%) 1,080.00\n",
      "SGST (6%) 1,080.00\n",
      "Total amount 20,160.00\n",
      "                                         FOOD CHARGES  * \n",
      "November 10, 2022 996333 Dinner with Chicken 2 1 450.00 900.00\n",
      "November 11, 2022 996333 Dinner without Paneer 1 1 300.00 300.00\n",
      "November 11, 2022 996333 Dinner with Chicken 2 1 450.00 900.00\n",
      "Amount due before taxes 2,100.00\n",
      "CGST (2.5%) 52.50\n",
      "SGST (2.5%) 52.50\n",
      "Total amount: 2,205.00\n",
      "22,365.00\n",
      "6,000.00\n",
      "16,365.00\n",
      "PAYMENT DETAILS OTHER INFORMATION\n",
      "Name of Beneficiary: USO International Centre USO PAN No:\n",
      "Name of Bank: Canara Bank USO GST No:\n",
      "Address of Bank: Jit Singh Marg Branch, New Delhi Name:\n",
      "Account Number: 1484-10100-3481 Telephone number:\n",
      "IFSC Code CNRB0001484 Email:\n",
      "MICR Number 1100-15-015\n",
      "Payment Reference: INVOICE NO:  1685 Website:\n",
      "LATE PAYMENT SHALL ATTRACT AN PENALTY OF 10% \n",
      "COMPUTER GENERATED INVOICE, DOES NOT REQUIRE SIGNATURE IF EMAILED FROM bookings@usoindia.org OR finance@usoindia.orgINVOICE NO:  1685\n",
      "PAYMENT SHOULD BE MADE BY BANK TRANSFER OR CHECK MADE PAYABLE TO USO INTERNATIONAL CENTRE.Attn:  Mr. Anirban Bhattacharya\n",
      "Less: Advance:\n",
      "Balance AmountTOTAL AMOUNT: ACCOMMODATION + FOOD :₹ 16,365.0016 November 2022\n",
      "01 December 2022\n",
      "USO House, USO Road, 6, Special Institutional Area\n",
      "New Delhi - 110 067USO International Centre\n",
      "AAATU0103A\n",
      "www.usoindia.org\n",
      "RECEIPT SHALL BE ISSUED ONLY AFTER ALL PAYMENT IS RECEIVED.07AAATU0103A2ZC\n",
      "Mr. Yash Pal Bhardwaj\n",
      "(011) 4106-8486\n",
      "bookings@usoindia.org\n",
      "finance@usoindia.org\n",
      "\n",
      "Invoice number 1\n",
      " \n",
      "PAYMENT DUE  \n",
      "Centre for Responsible Business (CRB)\n",
      "USO house, USO Road, 6 special Institutional Area, New Delhi - 110067\n",
      "PAN: AABAC2075R GST:07AABAC2075R1ZF\n",
      "DATE SAC CODE DETAILS NO. OF PERSONS NO. OF DAYS UNIT PRICE LINE TOTAL\n",
      "CONFERENCE HALL CHARGES\n",
      "November 09-11, 2022 997212 Darwin Hall charges 12 3 5,000.00 15,000.00\n",
      "Amount due before taxes 15,000.00\n",
      "CGST (9%) 1,350.00\n",
      "SGST (9%) 1,350.00\n",
      "Roundup 0.00\n",
      "Total amount 17,700.00\n",
      "17,700.00\n",
      "0.00\n",
      "17,700.00\n",
      "PAYMENT DETAILS OTHER INFORMATION\n",
      "Name of Beneficiary: USO International Centre USO PAN No:\n",
      "Name of Bank: Canara Bank USO GST No:\n",
      "Address of Bank: Jit Singh Marg Branch, New Delhi Name:\n",
      "Account Number: 1484-10100-3481 Telephone number:\n",
      "IFSC Code CNRB0001484 Email:\n",
      "MICR Number 1100-15-015\n",
      "Payment Reference: INVOICE NO:  1684 Website:\n",
      "LATE PAYMENT SHALL ATTRACT AN PENALTY OF 10% \n",
      "COMPUTER GENERATED INVOICE, DOES NOT REQUIRE SIGNATURE IF EMAILED FROM bookings@usoindia.org OR finance@usoindia.org\n",
      "RECEIPT SHALL BE ISSUED ONLY AFTER ALL PAYMENT IS RECEIVED.07AAATU0103A2ZC\n",
      "Mr. Yash Pal Bhardwaj\n",
      "(011) 4106-8486\n",
      "bookings@usoindia.org\n",
      "finance@usoindia.orgINVOICE NO:  1684\n",
      "PAYMENT SHOULD BE MADE BY BANK TRANSFER OR CHECK MADE PAYABLE TO USO INTERNATIONAL CENTRE.Attn:  Ms. Preeti Yadav\n",
      "Less: Advance:\n",
      "Balance AmountTOTAL AMOUNT: CONFERENCE HALL CHARGES :₹ 17,700.0016 December 2022\n",
      "31 December 2022\n",
      "USO House, USO Road, 6, Special Institutional Area\n",
      "New Delhi - 110 067USO International Centre\n",
      "AAATU0103A\n",
      "www.usoindia.org\n",
      "\n",
      "Invoice number 2\n",
      "DATE 23 November 2022  \n",
      "PAYMENT DUE  \n",
      " WikiLabs India Pvt Ltd\n",
      "LG Floor, E-263, Greater Kailash-1, New Delhi - 110048\n",
      "PAN: AABCW3517C GST: 07AABCW3517C1ZP\n",
      "DATE SAC CODE DETAILS NO. OF PERSONS NO. OF DAYS UNIT PRICE LINE TOTAL\n",
      "CONFERENCE HALL CHARGES\n",
      "November 18, 2022 997212 Darwin Hall charges 5 1 9,500.00 9,500.00\n",
      "November 18, 2022 997212 Extra Hours charges 5 2 Hours 600.00 1,200.00\n",
      "November 19, 2022 997212 Darwin Hall charges 5 1 9,500.00 9,500.00\n",
      "November 19, 2022 997212 Extra Hours charges 5 3 Hours 600.00 1,800.00\n",
      "November 20, 2022 997212 Darwin Hall charges 5 1 9,500.00 9,500.00\n",
      "Amount due before taxes ₹ 31,500.00\n",
      "CGST (9%) 2,835.00\n",
      "SGST (9%) 2,835.00\n",
      "Total amount ₹ 37,170.00\n",
      "                                         FOOD CHARGES  * \n",
      "November 18, 2022 996333 Coffee 3 1 30.00 90.00\n",
      "November 18, 2022 996333 Breakfast 3 1 130.00 390.00\n",
      "November 19, 2022 996333 Coffee 2 1 30.00 60.00\n",
      "November 20, 2022 996333 Coffee 2 1 30.00 60.00\n",
      "Amount due before taxes ₹ 600.00\n",
      "CGST (2.5%) 15.00\n",
      "SGST (2.5%) 15.00\n",
      "Roundup 0.00\n",
      "Total amount: ₹ 630.00\n",
      "37,800.00\n",
      "0.00\n",
      "37,800.00\n",
      "PAYMENT DETAILS OTHER INFORMATION\n",
      "Name of Beneficiary: USO International Centre USO PAN No:\n",
      "Name of Bank: Canara Bank USO GST No:\n",
      "Address of Bank: Jit Singh Marg Branch, New Delhi Name:\n",
      "Account Number: 1484-10100-3481 Telephone number:\n",
      "IFSC Code CNRB0001484 Email:\n",
      "MICR Number 1100-15-015\n",
      "Payment Reference: INVOICE NO:  1691 Website:\n",
      "LATE PAYMENT SHALL ATTRACT AN PENALTY OF 10% \n",
      "COMPUTER GENERATED INVOICE, DOES NOT REQUIRE SIGNATURE IF EMAILED FROM bookings@usoindia.org OR finance@usoindia.orgINVOICE NO:  1691\n",
      "PAYMENT SHOULD BE MADE BY BANK TRANSFER OR CHECK MADE PAYABLE TO USO INTERNATIONAL CENTRE.Attn:  Mr. Saumya Upadhyaya\n",
      "Less: Advance:\n",
      "Balance AmountTOTAL AMOUNT: CONFERENCE HALL CHARGES + FOOD CHARGES:₹ 37,800.00\n",
      "08 December 2022\n",
      "USO House, USO Road, 6, Special Institutional Area\n",
      "New Delhi - 110 067USO International Centre\n",
      "AAATU0103A\n",
      "www.usoindia.org\n",
      "RECEIPT SHALL BE ISSUED ONLY AFTER ALL PAYMENT IS RECEIVED.07AAATU0103A2ZC\n",
      "Mr. Yash Pal Bhardwaj\n",
      "(011) 4106-8486\n",
      "bookings@usoindia.org\n",
      "finance@usoindia.org\n",
      "\n",
      "Invoice number 3\n",
      "DATE 22 November 2022  \n",
      "PAYMENT DUE DATE  \n",
      "Inter-University Accelerator Centre \n",
      "Aruna Asaf Ali Marg, Post Box No.10502 New Delhi -110067\n",
      "PAN: AAAAN2333C GST:  07AAAAN2333C2Z6\n",
      "DATE SAC CODE DETAILS NO. OF PERSONS NO. OF DAYS UNIT PRICE LINE TOTAL\n",
      " ACCOMMODATION CHARGES\n",
      "November 15, 2022 996333 Seven room attached bath on triple occupancy 21 1 ₹ 4,000.00 ₹ 28,000.00\n",
      "November 16, 2022 996333 Seven room attached bath on triple occupancy 21 1 ₹ 4,000.00 ₹ 28,000.00\n",
      "November 17, 2022 996333 Seven room attached bath on triple occupancy 21 1 ₹ 4,000.00 ₹ 28,000.00\n",
      "November 18, 2022 996333 Seven room attached bath on triple occupancy 21 1 ₹ 4,000.00 ₹ 28,000.00\n",
      "November 19, 2022 996333 Seven room attached bath on triple occupancy 21 1 ₹ 4,000.00 ₹ 28,000.00\n",
      "Amount due before taxes ₹ 1,40,000.00\n",
      "CGST (6%) ₹ 8,400.00\n",
      "SGST (6%) ₹ 8,400.00\n",
      "Total amount ₹ 1,56,800.00\n",
      "₹ 1,56,800.00\n",
      "₹ 0.00\n",
      "₹ 1,56,800.00\n",
      "PAYMENT DETAILS OTHER INFORMATION\n",
      "Name of Beneficiary: USO International Centre USO PAN No:\n",
      "Name of Bank: Canara Bank USO GST No:\n",
      "Address of Bank: Jit Singh Marg Branch, New Delhi Name:\n",
      "Account Number: 1484-10100-3481 Telephone number:\n",
      "IFSC Code CNRB0001484 Email:\n",
      "MICR Number 1100-15-015\n",
      "Payment Reference: INVOICE NO:  1690 Website:\n",
      "LATE PAYMENT SHALL ATTRACT AN PENALTY OF 10% \n",
      "COMPUTER GENERATED INVOICE, DOES NOT REQUIRE SIGNATURE IF EMAILED FROM bookings@usoindia.org OR finance@usoindia.orgINVOICE NO:  1690\n",
      "PAYMENT SHOULD BE MADE BY BANK TRANSFER OR CHECK MADE PAYABLE TO USO INTERNATIONAL CENTRE.Attn:  Ms. Usha Kataria\n",
      "Less: Advance:\n",
      "Balance AmountTOTAL AMOUNT: ACCOMMODATION :₹ 1,56,800.00\n",
      "07 December 2022\n",
      "USO House, USO Road, 6, Special Institutional Area\n",
      "New Delhi - 110 067USO International Centre\n",
      "AAATU0103A\n",
      "www.usoindia.org\n",
      "RECEIPT SHALL BE ISSUED ONLY AFTER ALL PAYMENT IS RECEIVED.07AAATU0103A2ZC\n",
      "Mr. Yash Pal Bhardwaj\n",
      "(011) 4106-8486\n",
      "bookings@usoindia.org\n",
      "finance@usoindia.org\n",
      "\n"
     ]
    }
   ],
   "source": [
    " for i in range(len(pdf_files)):\n",
    "        # creating a pdf file object\n",
    "        pdfFileObj = open(pdf_files[i], 'rb')\n",
    "        # creating a pdf reader object\n",
    "        pdfReader = PyPDF2.PdfFileReader(pdfFileObj)\n",
    "        # printing number of pages in pdf file\n",
    "        #print(pdfReader.numPages)\n",
    "        print(\"Invoice number\",i)\n",
    "        for j in range(pdfReader.numPages):\n",
    "            # creating a page object\n",
    "            pageObj = pdfReader.getPage(j)\n",
    "            # extracting text from page\n",
    "            print(pageObj.extractText())"
   ]
  },
  {
   "cell_type": "code",
   "execution_count": 132,
   "id": "8af674db",
   "metadata": {},
   "outputs": [],
   "source": [
    " \n"
   ]
  },
  {
   "cell_type": "code",
   "execution_count": 133,
   "id": "92158208",
   "metadata": {},
   "outputs": [
    {
     "name": "stdout",
     "output_type": "stream",
     "text": [
      "1\n"
     ]
    }
   ],
   "source": []
  },
  {
   "cell_type": "code",
   "execution_count": 134,
   "id": "83b0e590",
   "metadata": {},
   "outputs": [],
   "source": []
  },
  {
   "cell_type": "code",
   "execution_count": null,
   "id": "738f396b",
   "metadata": {},
   "outputs": [],
   "source": [
    "\n",
    "  "
   ]
  },
  {
   "cell_type": "code",
   "execution_count": null,
   "id": "f3e69a8c",
   "metadata": {},
   "outputs": [],
   "source": [
    "\n",
    " \n",
    "  \n",
    "\n",
    "  \n",
    "\n",
    "  \n",
    "\n",
    "# closing the pdf file object\n",
    "pdfFileObj.close()"
   ]
  },
  {
   "cell_type": "code",
   "execution_count": null,
   "id": "ccf5a6b9",
   "metadata": {},
   "outputs": [],
   "source": []
  }
 ],
 "metadata": {
  "kernelspec": {
   "display_name": "Python 3",
   "language": "python",
   "name": "python3"
  },
  "language_info": {
   "codemirror_mode": {
    "name": "ipython",
    "version": 3
   },
   "file_extension": ".py",
   "mimetype": "text/x-python",
   "name": "python",
   "nbconvert_exporter": "python",
   "pygments_lexer": "ipython3",
   "version": "3.8.8"
  }
 },
 "nbformat": 4,
 "nbformat_minor": 5
}
